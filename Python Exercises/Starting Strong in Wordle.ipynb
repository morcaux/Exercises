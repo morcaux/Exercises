{
 "cells": [
  {
   "cell_type": "markdown",
   "id": "094cd0b2",
   "metadata": {},
   "source": [
    "# Wordle Letter Frequency (How to Start Strong in Wordle)\n",
    "**Wordle is a free game where you have six tries to guess a five-letter word through deduction. (theglobeandmail.com, 2022)\n",
    "This game has been a craze among people who frequent Twitter and other social media platforms.\n",
    "The purpose of this analysis is to determine what letters appear the most based on previous solutions.** "
   ]
  },
  {
   "cell_type": "code",
   "execution_count": 1,
   "id": "954d0d54",
   "metadata": {},
   "outputs": [],
   "source": [
    "import numpy as np \n",
    "import pandas as pd \n",
    "\n",
    "from collections import Counter\n",
    "import matplotlib.pyplot as plt"
   ]
  },
  {
   "cell_type": "code",
   "execution_count": 2,
   "id": "bfbba6cc",
   "metadata": {},
   "outputs": [
    {
     "data": {
      "text/html": [
       "<div>\n",
       "<style scoped>\n",
       "    .dataframe tbody tr th:only-of-type {\n",
       "        vertical-align: middle;\n",
       "    }\n",
       "\n",
       "    .dataframe tbody tr th {\n",
       "        vertical-align: top;\n",
       "    }\n",
       "\n",
       "    .dataframe thead th {\n",
       "        text-align: right;\n",
       "    }\n",
       "</style>\n",
       "<table border=\"1\" class=\"dataframe\">\n",
       "  <thead>\n",
       "    <tr style=\"text-align: right;\">\n",
       "      <th></th>\n",
       "      <th>word</th>\n",
       "    </tr>\n",
       "  </thead>\n",
       "  <tbody>\n",
       "    <tr>\n",
       "      <th>0</th>\n",
       "      <td>cigar</td>\n",
       "    </tr>\n",
       "    <tr>\n",
       "      <th>1</th>\n",
       "      <td>rebut</td>\n",
       "    </tr>\n",
       "    <tr>\n",
       "      <th>2</th>\n",
       "      <td>sissy</td>\n",
       "    </tr>\n",
       "    <tr>\n",
       "      <th>3</th>\n",
       "      <td>humph</td>\n",
       "    </tr>\n",
       "    <tr>\n",
       "      <th>4</th>\n",
       "      <td>awake</td>\n",
       "    </tr>\n",
       "  </tbody>\n",
       "</table>\n",
       "</div>"
      ],
      "text/plain": [
       "    word\n",
       "0  cigar\n",
       "1  rebut\n",
       "2  sissy\n",
       "3  humph\n",
       "4  awake"
      ]
     },
     "execution_count": 2,
     "metadata": {},
     "output_type": "execute_result"
    }
   ],
   "source": [
    "vg = pd.read_csv(\"valid_guesses.csv\")\n",
    "vs = pd.read_csv(\"valid_solutions.csv\")\n",
    "vs.head()"
   ]
  },
  {
   "cell_type": "markdown",
   "id": "0f63c537",
   "metadata": {},
   "source": [
    "***So we need to convert the column \"Word\" into a list***"
   ]
  },
  {
   "cell_type": "code",
   "execution_count": 3,
   "id": "1cda8276",
   "metadata": {},
   "outputs": [],
   "source": [
    "word_list = vs['word'].to_list()"
   ]
  },
  {
   "cell_type": "markdown",
   "id": "710480fe",
   "metadata": {},
   "source": [
    "**Then we convert the word_list into a letter list**"
   ]
  },
  {
   "cell_type": "code",
   "execution_count": 4,
   "id": "90aecc6b",
   "metadata": {},
   "outputs": [],
   "source": [
    "letters = [letter for word in list(word_list) for letter in word]"
   ]
  },
  {
   "cell_type": "markdown",
   "id": "6e8a33fb",
   "metadata": {},
   "source": [
    "**Plotting the Frequency per letter**"
   ]
  },
  {
   "cell_type": "code",
   "execution_count": 15,
   "id": "ffabb36c",
   "metadata": {},
   "outputs": [
    {
     "data": {
      "text/plain": [
       "Text(0.5, 1.0, 'Letter Frequency')"
      ]
     },
     "execution_count": 15,
     "metadata": {},
     "output_type": "execute_result"
    },
    {
     "data": {
      "image/png": "[encoded data removed]",
      "text/plain": [
       "<Figure size 936x360 with 1 Axes>"
      ]
     },
     "metadata": {
      "needs_background": "light"
     },
     "output_type": "display_data"
    }
   ],
   "source": [
    "letterfreq = Counter(letters)\n",
    "plt.rc(\"figure\", autolayout=True)\n",
    "ax = plt.bar(*zip(*letterfreq.most_common()))\n",
    "plt.title(\"Letter Frequency\")"
   ]
  },
  {
   "cell_type": "markdown",
   "id": "b9e6f7ca",
   "metadata": {},
   "source": [
    "**We can see here that there are 3 vowels in the Top 5 letters by frequency. (EAO)**"
   ]
  },
  {
   "cell_type": "markdown",
   "id": "1974b1ea",
   "metadata": {},
   "source": [
    "**Now we try to determine which 5 letter words contains these vowels. The point of this one is to get as much as yellow tiles as possible. In general, most words contain vowels and words without vowels are marginal. We would extract the rows from the valid_guesses file.**"
   ]
  },
  {
   "cell_type": "code",
   "execution_count": 6,
   "id": "bc3f7fb4",
   "metadata": {},
   "outputs": [
    {
     "data": {
      "text/html": [
       "<div>\n",
       "<style scoped>\n",
       "    .dataframe tbody tr th:only-of-type {\n",
       "        vertical-align: middle;\n",
       "    }\n",
       "\n",
       "    .dataframe tbody tr th {\n",
       "        vertical-align: top;\n",
       "    }\n",
       "\n",
       "    .dataframe thead th {\n",
       "        text-align: right;\n",
       "    }\n",
       "</style>\n",
       "<table border=\"1\" class=\"dataframe\">\n",
       "  <thead>\n",
       "    <tr style=\"text-align: right;\">\n",
       "      <th></th>\n",
       "      <th>word</th>\n",
       "    </tr>\n",
       "  </thead>\n",
       "  <tbody>\n",
       "    <tr>\n",
       "      <th>110</th>\n",
       "      <td>aeons</td>\n",
       "    </tr>\n",
       "    <tr>\n",
       "      <th>4086</th>\n",
       "      <td>hoaed</td>\n",
       "    </tr>\n",
       "    <tr>\n",
       "      <th>6538</th>\n",
       "      <td>paeon</td>\n",
       "    </tr>\n",
       "    <tr>\n",
       "      <th>7128</th>\n",
       "      <td>psoae</td>\n",
       "    </tr>\n",
       "    <tr>\n",
       "      <th>8810</th>\n",
       "      <td>stoae</td>\n",
       "    </tr>\n",
       "    <tr>\n",
       "      <th>9373</th>\n",
       "      <td>toeas</td>\n",
       "    </tr>\n",
       "    <tr>\n",
       "      <th>10616</th>\n",
       "      <td>zoaea</td>\n",
       "    </tr>\n",
       "    <tr>\n",
       "      <th>10620</th>\n",
       "      <td>zoeae</td>\n",
       "    </tr>\n",
       "    <tr>\n",
       "      <th>10621</th>\n",
       "      <td>zoeal</td>\n",
       "    </tr>\n",
       "    <tr>\n",
       "      <th>10622</th>\n",
       "      <td>zoeas</td>\n",
       "    </tr>\n",
       "    <tr>\n",
       "      <th>10632</th>\n",
       "      <td>zooea</td>\n",
       "    </tr>\n",
       "  </tbody>\n",
       "</table>\n",
       "</div>"
      ],
      "text/plain": [
       "        word\n",
       "110    aeons\n",
       "4086   hoaed\n",
       "6538   paeon\n",
       "7128   psoae\n",
       "8810   stoae\n",
       "9373   toeas\n",
       "10616  zoaea\n",
       "10620  zoeae\n",
       "10621  zoeal\n",
       "10622  zoeas\n",
       "10632  zooea"
      ]
     },
     "execution_count": 6,
     "metadata": {},
     "output_type": "execute_result"
    }
   ],
   "source": [
    "vg[vg['word'].str.contains(r'eao|eao|aeo|aoe|oea|oae')]"
   ]
  },
  {
   "cell_type": "markdown",
   "id": "398c27aa",
   "metadata": {},
   "source": [
    "**We can see here that these words aren't words for everyday use and would be unlikely to show up as actual answers anytime soon. Let's try to match the first result from the previous solutions.** "
   ]
  },
  {
   "cell_type": "code",
   "execution_count": 7,
   "id": "886d17f2",
   "metadata": {},
   "outputs": [
    {
     "data": {
      "text/html": [
       "<div>\n",
       "<style scoped>\n",
       "    .dataframe tbody tr th:only-of-type {\n",
       "        vertical-align: middle;\n",
       "    }\n",
       "\n",
       "    .dataframe tbody tr th {\n",
       "        vertical-align: top;\n",
       "    }\n",
       "\n",
       "    .dataframe thead th {\n",
       "        text-align: right;\n",
       "    }\n",
       "</style>\n",
       "<table border=\"1\" class=\"dataframe\">\n",
       "  <thead>\n",
       "    <tr style=\"text-align: right;\">\n",
       "      <th></th>\n",
       "      <th>word</th>\n",
       "    </tr>\n",
       "  </thead>\n",
       "  <tbody>\n",
       "  </tbody>\n",
       "</table>\n",
       "</div>"
      ],
      "text/plain": [
       "Empty DataFrame\n",
       "Columns: [word]\n",
       "Index: []"
      ]
     },
     "execution_count": 7,
     "metadata": {},
     "output_type": "execute_result"
    }
   ],
   "source": [
    "vs[vs['word'].str.contains(r'aeons')]"
   ]
  },
  {
   "cell_type": "markdown",
   "id": "65d1ff84",
   "metadata": {},
   "source": [
    "**As expected, it wouldn't yield to any result. But as stated earlier, using these words could gain you more yellows tiles on the first try.** "
   ]
  },
  {
   "cell_type": "markdown",
   "id": "2b9f8ea3",
   "metadata": {},
   "source": [
    "**Another method to use is gaining a green tile on the first letter. Here, we plotted the letter frequency on the first letters.** "
   ]
  },
  {
   "cell_type": "code",
   "execution_count": 14,
   "id": "1f152c86",
   "metadata": {},
   "outputs": [
    {
     "data": {
      "text/plain": [
       "Text(0.5, 1.0, 'First Letter Frequency')"
      ]
     },
     "execution_count": 14,
     "metadata": {},
     "output_type": "execute_result"
    },
    {
     "data": {
      "image/png": "[encoded data removed]",
      "text/plain": [
       "<Figure size 936x360 with 1 Axes>"
      ]
     },
     "metadata": {
      "needs_background": "light"
     },
     "output_type": "display_data"
    }
   ],
   "source": [
    "\n",
    "letter2 = [word[0] for word in list(word_list)]\n",
    "\n",
    "letterfreq = Counter(letter2)\n",
    "plt.rc(\"figure\", autolayout=True)\n",
    "ax = plt.bar(*zip(*letterfreq.most_common()))\n",
    "plt.title(\"First Letter Frequency\")"
   ]
  },
  {
   "cell_type": "markdown",
   "id": "c3e2c452",
   "metadata": {},
   "source": [
    "**The letter S is currently the leading starting letter of the solved words. You could start on words that starts with S. \n",
    "Example of these are the words \"store\" and \"strum\".**"
   ]
  },
  {
   "cell_type": "markdown",
   "id": "55ea1fb8",
   "metadata": {},
   "source": [
    "**Lastly, we could combine the inferences that we gathered from graphs \"Letter Frequency\" and \"First Letter Frequency\". I would personally suggest words that starts with the letter S, followed by any of the Top 8 letters in the \"Letter Frequency\" Graph.**"
   ]
  },
  {
   "cell_type": "markdown",
   "id": "45b6f203",
   "metadata": {},
   "source": [
    "**Example of these words would be the words: \"Steal\", \"Store\", and \"Stare\".**"
   ]
  },
  {
   "cell_type": "code",
   "execution_count": null,
   "id": "b6ccaec0",
   "metadata": {},
   "outputs": [],
   "source": []
  }
 ],
 "metadata": {
  "kernelspec": {
   "display_name": "Python 3 (ipykernel)",
   "language": "python",
   "name": "python3"
  },
  "language_info": {
   "codemirror_mode": {
    "name": "ipython",
    "version": 3
   },
   "file_extension": ".py",
   "mimetype": "text/x-python",
   "name": "python",
   "nbconvert_exporter": "python",
   "pygments_lexer": "ipython3",
   "version": "3.9.7"
  }
 },
 "nbformat": 4,
 "nbformat_minor": 5
}
